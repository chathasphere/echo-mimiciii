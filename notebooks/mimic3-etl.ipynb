{
 "cells": [
  {
   "cell_type": "markdown",
   "metadata": {},
   "source": [
    "What needs to be done?\n",
    "\n",
    "Main ingredients: \"cohort\", \"basics\", \"icd9\", \"drugs\", \"lab_tests\", \"vital_signs\"\n",
    "\n",
    "- cohort: "
   ]
  },
  {
   "cell_type": "code",
   "execution_count": 1,
   "metadata": {},
   "outputs": [],
   "source": [
    "import psycopg2\n",
    "import pandas as pd"
   ]
  },
  {
   "cell_type": "code",
   "execution_count": 2,
   "metadata": {},
   "outputs": [],
   "source": [
    "sqluser = 'postgres'\n",
    "sqlpass = 'postgres'\n",
    "dbname = 'mimic'\n",
    "schema_name = 'mimiciii'\n",
    "host = 'localhost'\n",
    "\n",
    "def run_query(sql, conn):\n",
    "    query_schema = f\"set search_path to public,{schema_name};\"\n",
    "    cur = conn.cursor()\n",
    "    sql = query_schema + sql\n",
    "    try:\n",
    "        cur.execute(sql)\n",
    "    except:\n",
    "        conn.rollback()\n",
    "        raise\n",
    "    finally:\n",
    "        cur.close()"
   ]
  },
  {
   "cell_type": "code",
   "execution_count": 3,
   "metadata": {},
   "outputs": [],
   "source": [
    "def make_view_sql(sql_name, view_type=\"materialized view\"):\n",
    "    with open(f\"../sql/{sql_name}.sql\") as f:\n",
    "        script = f.read().replace(\";\",\"\")\n",
    "    command = f\"\"\"drop {view_type} if exists {sql_name} cascade;\n",
    "        create {view_type} {sql_name} as (\n",
    "            {script}\n",
    "        )\"\"\"\n",
    "    return command"
   ]
  },
  {
   "cell_type": "code",
   "execution_count": 4,
   "metadata": {},
   "outputs": [],
   "source": [
    "conn = psycopg2.connect(dbname=dbname, user=sqluser, password=sqlpass, host=host)"
   ]
  },
  {
   "cell_type": "code",
   "execution_count": 5,
   "metadata": {},
   "outputs": [],
   "source": [
    "# generate population view\n",
    "cmd = make_view_sql(\"population\", view_type=\"view\")\n",
    "run_query(cmd, conn)"
   ]
  },
  {
   "cell_type": "code",
   "execution_count": 7,
   "metadata": {},
   "outputs": [],
   "source": [
    "m_views = (\"cohort\", \"basics\", \"icd9\", \"drugs\", \"lab_tests\", \"vital_signs\")\n",
    "for m in m_views:\n",
    "    cmd = make_view_sql(m)\n",
    "    run_query(cmd, conn)\n",
    "    print(\"created materialized view for f{m}\")"
   ]
  },
  {
   "cell_type": "code",
   "execution_count": null,
   "metadata": {},
   "outputs": [],
   "source": []
  }
 ],
 "metadata": {
  "kernelspec": {
   "display_name": "Python 3",
   "language": "python",
   "name": "python3"
  },
  "language_info": {
   "codemirror_mode": {
    "name": "ipython",
    "version": 3
   },
   "file_extension": ".py",
   "mimetype": "text/x-python",
   "name": "python",
   "nbconvert_exporter": "python",
   "pygments_lexer": "ipython3",
   "version": "3.8.3"
  }
 },
 "nbformat": 4,
 "nbformat_minor": 4
}
