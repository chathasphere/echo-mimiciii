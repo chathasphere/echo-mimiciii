{
 "cells": [
  {
   "cell_type": "code",
   "execution_count": 1,
   "metadata": {},
   "outputs": [
    {
     "name": "stderr",
     "output_type": "stream",
     "text": [
      "Loading required package: DBI\n",
      "\n",
      "To reproduce results from prior versions of the twang package, please see the version=\"legacy\" option described in the documentation.\n",
      "\n",
      "── \u001b[1mAttaching core tidyverse packages\u001b[22m ──────────────────────── tidyverse 2.0.0 ──\n",
      "\u001b[32m✔\u001b[39m \u001b[34mdplyr    \u001b[39m 1.1.1     \u001b[32m✔\u001b[39m \u001b[34mreadr    \u001b[39m 2.1.4\n",
      "\u001b[32m✔\u001b[39m \u001b[34mforcats  \u001b[39m 1.0.0     \u001b[32m✔\u001b[39m \u001b[34mstringr  \u001b[39m 1.5.0\n",
      "\u001b[32m✔\u001b[39m \u001b[34mggplot2  \u001b[39m 3.4.0     \u001b[32m✔\u001b[39m \u001b[34mtibble   \u001b[39m 3.2.1\n",
      "\u001b[32m✔\u001b[39m \u001b[34mlubridate\u001b[39m 1.9.2     \u001b[32m✔\u001b[39m \u001b[34mtidyr    \u001b[39m 1.3.0\n",
      "\u001b[32m✔\u001b[39m \u001b[34mpurrr    \u001b[39m 1.0.1     \n",
      "── \u001b[1mConflicts\u001b[22m ────────────────────────────────────────── tidyverse_conflicts() ──\n",
      "\u001b[31m✖\u001b[39m \u001b[34mdplyr\u001b[39m::\u001b[32mfilter()\u001b[39m masks \u001b[34mstats\u001b[39m::filter()\n",
      "\u001b[31m✖\u001b[39m \u001b[34mdplyr\u001b[39m::\u001b[32mlag()\u001b[39m    masks \u001b[34mstats\u001b[39m::lag()\n",
      "\u001b[36mℹ\u001b[39m Use the conflicted package (\u001b[3m\u001b[34m<http://conflicted.r-lib.org/>\u001b[39m\u001b[23m) to force all conflicts to become errors\n"
     ]
    }
   ],
   "source": [
    "library(RPostgreSQL)\n",
    "library(tidyverse)"
   ]
  },
  {
   "cell_type": "code",
   "execution_count": 2,
   "metadata": {},
   "outputs": [],
   "source": [
    "data_dir <- file.path(\"..\", \"data\")\n",
    "sql_dir <- file.path(\"..\", \"sql\")"
   ]
  },
  {
   "cell_type": "code",
   "execution_count": 3,
   "metadata": {},
   "outputs": [
    {
     "data": {
      "text/plain": [
       "<PostgreSQLResult>"
      ]
     },
     "metadata": {},
     "output_type": "display_data"
    }
   ],
   "source": [
    "drv <- dbDriver(\"PostgreSQL\")\n",
    "con <- dbConnect(drv, dbname = \"mimic\")\n",
    "dbSendQuery(con, \"set search_path=echo,public,mimiciii;\")"
   ]
  },
  {
   "cell_type": "code",
   "execution_count": 4,
   "metadata": {},
   "outputs": [
    {
     "data": {
      "text/html": [
       "<table class=\"dataframe\">\n",
       "<caption>A data.frame: 6 × 130</caption>\n",
       "<thead>\n",
       "\t<tr><th></th><th scope=col>icustay_id</th><th scope=col>hadm_id</th><th scope=col>subject_id</th><th scope=col>first_careunit</th><th scope=col>intime</th><th scope=col>outtime</th><th scope=col>angus</th><th scope=col>age</th><th scope=col>icu_order</th><th scope=col>echo_time</th><th scope=col>⋯</th><th scope=col>lab_lactate_flag</th><th scope=col>lab_hemoglobin_flag</th><th scope=col>lab_sodium_flag</th><th scope=col>lab_creatinine_kinase_flag</th><th scope=col>lab_ph_flag</th><th scope=col>lab_bnp_flag</th><th scope=col>lab_bicarbonate_flag</th><th scope=col>lab_wbc_flag</th><th scope=col>lab_bun_flag</th><th scope=col>lab_pco2_flag</th></tr>\n",
       "\t<tr><th></th><th scope=col>&lt;int&gt;</th><th scope=col>&lt;int&gt;</th><th scope=col>&lt;int&gt;</th><th scope=col>&lt;chr&gt;</th><th scope=col>&lt;dttm&gt;</th><th scope=col>&lt;dttm&gt;</th><th scope=col>&lt;int&gt;</th><th scope=col>&lt;dbl&gt;</th><th scope=col>&lt;dbl&gt;</th><th scope=col>&lt;dttm&gt;</th><th scope=col>⋯</th><th scope=col>&lt;int&gt;</th><th scope=col>&lt;int&gt;</th><th scope=col>&lt;int&gt;</th><th scope=col>&lt;int&gt;</th><th scope=col>&lt;int&gt;</th><th scope=col>&lt;int&gt;</th><th scope=col>&lt;int&gt;</th><th scope=col>&lt;int&gt;</th><th scope=col>&lt;int&gt;</th><th scope=col>&lt;int&gt;</th></tr>\n",
       "</thead>\n",
       "<tbody>\n",
       "\t<tr><th scope=row>1</th><td>238250</td><td>106084</td><td>28940</td><td>MICU</td><td>2107-05-01 00:06:13</td><td>2107-05-13</td><td>1</td><td>61.25803</td><td>1</td><td>NA</td><td>⋯</td><td>0</td><td>1</td><td>1</td><td>0</td><td>0</td><td>0</td><td>1</td><td>1</td><td>1</td><td>0</td></tr>\n",
       "\t<tr><th scope=row>2</th><td>273462</td><td>124592</td><td>24082</td><td>SICU</td><td>2178-04-09 17:37:06</td><td>2178-04-12</td><td>1</td><td>56.18668</td><td>1</td><td>NA</td><td>⋯</td><td>1</td><td>1</td><td>1</td><td>0</td><td>1</td><td>0</td><td>1</td><td>1</td><td>1</td><td>1</td></tr>\n",
       "\t<tr><th scope=row>3</th><td>282609</td><td>108445</td><td>16536</td><td>MICU</td><td>2143-04-11 00:51:57</td><td>2143-04-14</td><td>1</td><td>52.86642</td><td>1</td><td>2143-04-11</td><td>⋯</td><td>1</td><td>1</td><td>1</td><td>1</td><td>1</td><td>0</td><td>1</td><td>1</td><td>1</td><td>1</td></tr>\n",
       "\t<tr><th scope=row>4</th><td>297366</td><td>115424</td><td> 8511</td><td>MICU</td><td>2130-12-18 14:31:59</td><td>2130-12-19</td><td>1</td><td>69.99635</td><td>1</td><td>NA</td><td>⋯</td><td>0</td><td>1</td><td>1</td><td>0</td><td>0</td><td>0</td><td>1</td><td>1</td><td>1</td><td>0</td></tr>\n",
       "\t<tr><th scope=row>5</th><td>232920</td><td>107703</td><td>92623</td><td>MICU</td><td>2163-03-31 05:07:26</td><td>2163-04-01</td><td>1</td><td>91.50000</td><td>1</td><td>NA</td><td>⋯</td><td>0</td><td>1</td><td>1</td><td>1</td><td>0</td><td>0</td><td>1</td><td>1</td><td>1</td><td>0</td></tr>\n",
       "\t<tr><th scope=row>6</th><td>263138</td><td>119476</td><td>27996</td><td>SICU</td><td>2171-01-12 05:05:24</td><td>2171-01-13</td><td>1</td><td>51.44592</td><td>1</td><td>NA</td><td>⋯</td><td>1</td><td>1</td><td>1</td><td>0</td><td>0</td><td>0</td><td>1</td><td>1</td><td>1</td><td>0</td></tr>\n",
       "</tbody>\n",
       "</table>\n"
      ],
      "text/latex": [
       "A data.frame: 6 × 130\n",
       "\\begin{tabular}{r|lllllllllllllllllllll}\n",
       "  & icustay\\_id & hadm\\_id & subject\\_id & first\\_careunit & intime & outtime & angus & age & icu\\_order & echo\\_time & ⋯ & lab\\_lactate\\_flag & lab\\_hemoglobin\\_flag & lab\\_sodium\\_flag & lab\\_creatinine\\_kinase\\_flag & lab\\_ph\\_flag & lab\\_bnp\\_flag & lab\\_bicarbonate\\_flag & lab\\_wbc\\_flag & lab\\_bun\\_flag & lab\\_pco2\\_flag\\\\\n",
       "  & <int> & <int> & <int> & <chr> & <dttm> & <dttm> & <int> & <dbl> & <dbl> & <dttm> & ⋯ & <int> & <int> & <int> & <int> & <int> & <int> & <int> & <int> & <int> & <int>\\\\\n",
       "\\hline\n",
       "\t1 & 238250 & 106084 & 28940 & MICU & 2107-05-01 00:06:13 & 2107-05-13 & 1 & 61.25803 & 1 & NA & ⋯ & 0 & 1 & 1 & 0 & 0 & 0 & 1 & 1 & 1 & 0\\\\\n",
       "\t2 & 273462 & 124592 & 24082 & SICU & 2178-04-09 17:37:06 & 2178-04-12 & 1 & 56.18668 & 1 & NA & ⋯ & 1 & 1 & 1 & 0 & 1 & 0 & 1 & 1 & 1 & 1\\\\\n",
       "\t3 & 282609 & 108445 & 16536 & MICU & 2143-04-11 00:51:57 & 2143-04-14 & 1 & 52.86642 & 1 & 2143-04-11 & ⋯ & 1 & 1 & 1 & 1 & 1 & 0 & 1 & 1 & 1 & 1\\\\\n",
       "\t4 & 297366 & 115424 &  8511 & MICU & 2130-12-18 14:31:59 & 2130-12-19 & 1 & 69.99635 & 1 & NA & ⋯ & 0 & 1 & 1 & 0 & 0 & 0 & 1 & 1 & 1 & 0\\\\\n",
       "\t5 & 232920 & 107703 & 92623 & MICU & 2163-03-31 05:07:26 & 2163-04-01 & 1 & 91.50000 & 1 & NA & ⋯ & 0 & 1 & 1 & 1 & 0 & 0 & 1 & 1 & 1 & 0\\\\\n",
       "\t6 & 263138 & 119476 & 27996 & SICU & 2171-01-12 05:05:24 & 2171-01-13 & 1 & 51.44592 & 1 & NA & ⋯ & 1 & 1 & 1 & 0 & 0 & 0 & 1 & 1 & 1 & 0\\\\\n",
       "\\end{tabular}\n"
      ],
      "text/markdown": [
       "\n",
       "A data.frame: 6 × 130\n",
       "\n",
       "| <!--/--> | icustay_id &lt;int&gt; | hadm_id &lt;int&gt; | subject_id &lt;int&gt; | first_careunit &lt;chr&gt; | intime &lt;dttm&gt; | outtime &lt;dttm&gt; | angus &lt;int&gt; | age &lt;dbl&gt; | icu_order &lt;dbl&gt; | echo_time &lt;dttm&gt; | ⋯ ⋯ | lab_lactate_flag &lt;int&gt; | lab_hemoglobin_flag &lt;int&gt; | lab_sodium_flag &lt;int&gt; | lab_creatinine_kinase_flag &lt;int&gt; | lab_ph_flag &lt;int&gt; | lab_bnp_flag &lt;int&gt; | lab_bicarbonate_flag &lt;int&gt; | lab_wbc_flag &lt;int&gt; | lab_bun_flag &lt;int&gt; | lab_pco2_flag &lt;int&gt; |\n",
       "|---|---|---|---|---|---|---|---|---|---|---|---|---|---|---|---|---|---|---|---|---|---|\n",
       "| 1 | 238250 | 106084 | 28940 | MICU | 2107-05-01 00:06:13 | 2107-05-13 | 1 | 61.25803 | 1 | NA | ⋯ | 0 | 1 | 1 | 0 | 0 | 0 | 1 | 1 | 1 | 0 |\n",
       "| 2 | 273462 | 124592 | 24082 | SICU | 2178-04-09 17:37:06 | 2178-04-12 | 1 | 56.18668 | 1 | NA | ⋯ | 1 | 1 | 1 | 0 | 1 | 0 | 1 | 1 | 1 | 1 |\n",
       "| 3 | 282609 | 108445 | 16536 | MICU | 2143-04-11 00:51:57 | 2143-04-14 | 1 | 52.86642 | 1 | 2143-04-11 | ⋯ | 1 | 1 | 1 | 1 | 1 | 0 | 1 | 1 | 1 | 1 |\n",
       "| 4 | 297366 | 115424 |  8511 | MICU | 2130-12-18 14:31:59 | 2130-12-19 | 1 | 69.99635 | 1 | NA | ⋯ | 0 | 1 | 1 | 0 | 0 | 0 | 1 | 1 | 1 | 0 |\n",
       "| 5 | 232920 | 107703 | 92623 | MICU | 2163-03-31 05:07:26 | 2163-04-01 | 1 | 91.50000 | 1 | NA | ⋯ | 0 | 1 | 1 | 1 | 0 | 0 | 1 | 1 | 1 | 0 |\n",
       "| 6 | 263138 | 119476 | 27996 | SICU | 2171-01-12 05:05:24 | 2171-01-13 | 1 | 51.44592 | 1 | NA | ⋯ | 1 | 1 | 1 | 0 | 0 | 0 | 1 | 1 | 1 | 0 |\n",
       "\n"
      ],
      "text/plain": [
       "  icustay_id hadm_id subject_id first_careunit intime              outtime   \n",
       "1 238250     106084  28940      MICU           2107-05-01 00:06:13 2107-05-13\n",
       "2 273462     124592  24082      SICU           2178-04-09 17:37:06 2178-04-12\n",
       "3 282609     108445  16536      MICU           2143-04-11 00:51:57 2143-04-14\n",
       "4 297366     115424   8511      MICU           2130-12-18 14:31:59 2130-12-19\n",
       "5 232920     107703  92623      MICU           2163-03-31 05:07:26 2163-04-01\n",
       "6 263138     119476  27996      SICU           2171-01-12 05:05:24 2171-01-13\n",
       "  angus age      icu_order echo_time  ⋯ lab_lactate_flag lab_hemoglobin_flag\n",
       "1 1     61.25803 1         <NA>       ⋯ 0                1                  \n",
       "2 1     56.18668 1         <NA>       ⋯ 1                1                  \n",
       "3 1     52.86642 1         2143-04-11 ⋯ 1                1                  \n",
       "4 1     69.99635 1         <NA>       ⋯ 0                1                  \n",
       "5 1     91.50000 1         <NA>       ⋯ 0                1                  \n",
       "6 1     51.44592 1         <NA>       ⋯ 1                1                  \n",
       "  lab_sodium_flag lab_creatinine_kinase_flag lab_ph_flag lab_bnp_flag\n",
       "1 1               0                          0           0           \n",
       "2 1               0                          1           0           \n",
       "3 1               1                          1           0           \n",
       "4 1               0                          0           0           \n",
       "5 1               1                          0           0           \n",
       "6 1               0                          0           0           \n",
       "  lab_bicarbonate_flag lab_wbc_flag lab_bun_flag lab_pco2_flag\n",
       "1 1                    1            1            0            \n",
       "2 1                    1            1            1            \n",
       "3 1                    1            1            1            \n",
       "4 1                    1            1            0            \n",
       "5 1                    1            1            0            \n",
       "6 1                    1            1            0            "
      ]
     },
     "metadata": {},
     "output_type": "display_data"
    }
   ],
   "source": [
    "full_data <- dbGetQuery(con, \"select * from merged_data\")\n",
    "head(full_data)"
   ]
  },
  {
   "cell_type": "code",
   "execution_count": 5,
   "metadata": {},
   "outputs": [
    {
     "data": {
      "text/html": [
       "<table class=\"dataframe\">\n",
       "<caption>A data.frame: 1 × 1</caption>\n",
       "<thead>\n",
       "\t<tr><th></th><th scope=col>count</th></tr>\n",
       "\t<tr><th></th><th scope=col>&lt;dbl&gt;</th></tr>\n",
       "</thead>\n",
       "<tbody>\n",
       "\t<tr><th scope=row>1</th><td>6361</td></tr>\n",
       "</tbody>\n",
       "</table>\n"
      ],
      "text/latex": [
       "A data.frame: 1 × 1\n",
       "\\begin{tabular}{r|l}\n",
       "  & count\\\\\n",
       "  & <dbl>\\\\\n",
       "\\hline\n",
       "\t1 & 6361\\\\\n",
       "\\end{tabular}\n"
      ],
      "text/markdown": [
       "\n",
       "A data.frame: 1 × 1\n",
       "\n",
       "| <!--/--> | count &lt;dbl&gt; |\n",
       "|---|---|\n",
       "| 1 | 6361 |\n",
       "\n"
      ],
      "text/plain": [
       "  count\n",
       "1 6361 "
      ]
     },
     "metadata": {},
     "output_type": "display_data"
    }
   ],
   "source": [
    "dbGetQuery(con, \"select count(*) from merged_data\")"
   ]
  },
  {
   "cell_type": "code",
   "execution_count": 4,
   "metadata": {},
   "outputs": [
    {
     "data": {
      "text/html": [
       "<table>\n",
       "<thead><tr><th scope=col>icustay_id</th><th scope=col>hadm_id</th><th scope=col>subject_id</th><th scope=col>first_careunit</th><th scope=col>intime</th><th scope=col>outtime</th><th scope=col>angus</th><th scope=col>age</th><th scope=col>icu_order</th><th scope=col>echo_time</th><th scope=col>⋯</th><th scope=col>lab_sodium_flag</th><th scope=col>lab_bun_flag</th><th scope=col>lab_bicarbonate_flag</th><th scope=col>lab_bnp_flag</th><th scope=col>lab_pco2_flag</th><th scope=col>lab_creatinine_flag</th><th scope=col>lab_potassium_flag</th><th scope=col>lab_troponin_flag</th><th scope=col>lab_po2_flag</th><th scope=col>lab_lactate_flag</th></tr></thead>\n",
       "<tbody>\n",
       "\t<tr><td>228416             </td><td>159895             </td><td> 5491              </td><td>MICU               </td><td>2151-06-29 01:18:27</td><td>2151-07-27 16:00:56</td><td>1                  </td><td>76.58225           </td><td>1                  </td><td>2151-06-30         </td><td>⋯                  </td><td>1                  </td><td>1                  </td><td>1                  </td><td>0                  </td><td>1                  </td><td>1                  </td><td>1                  </td><td>0                  </td><td>1                  </td><td>1                  </td></tr>\n",
       "\t<tr><td>278148             </td><td>169700             </td><td>49395              </td><td>MICU               </td><td>2197-01-09 00:45:42</td><td>2197-01-10 06:46:29</td><td>1                  </td><td>82.72606           </td><td>1                  </td><td>NA                 </td><td>⋯                  </td><td>1                  </td><td>1                  </td><td>1                  </td><td>0                  </td><td>0                  </td><td>1                  </td><td>1                  </td><td>0                  </td><td>0                  </td><td>0                  </td></tr>\n",
       "\t<tr><td>274174             </td><td>103722             </td><td>14855              </td><td>MICU               </td><td>2181-09-08 23:43:13</td><td>2181-09-26 16:52:02</td><td>1                  </td><td>61.84390           </td><td>1                  </td><td>2181-09-11         </td><td>⋯                  </td><td>1                  </td><td>1                  </td><td>1                  </td><td>0                  </td><td>1                  </td><td>1                  </td><td>1                  </td><td>0                  </td><td>1                  </td><td>1                  </td></tr>\n",
       "\t<tr><td>214954             </td><td>170515             </td><td>54642              </td><td>MICU               </td><td>2176-03-11 04:58:23</td><td>2176-03-15 18:00:48</td><td>1                  </td><td>63.86507           </td><td>1                  </td><td>2176-03-11         </td><td>⋯                  </td><td>1                  </td><td>1                  </td><td>1                  </td><td>0                  </td><td>1                  </td><td>1                  </td><td>1                  </td><td>1                  </td><td>1                  </td><td>1                  </td></tr>\n",
       "\t<tr><td>222457             </td><td>183493             </td><td>96815              </td><td>MICU               </td><td>2105-06-04 20:57:55</td><td>2105-06-06 20:01:51</td><td>1                  </td><td>62.84018           </td><td>1                  </td><td>NA                 </td><td>⋯                  </td><td>1                  </td><td>1                  </td><td>1                  </td><td>0                  </td><td>0                  </td><td>1                  </td><td>1                  </td><td>0                  </td><td>0                  </td><td>0                  </td></tr>\n",
       "\t<tr><td>264413             </td><td>134244             </td><td>81436              </td><td>MICU               </td><td>2133-03-27 16:31:37</td><td>2133-04-04 16:15:28</td><td>1                  </td><td>62.60148           </td><td>1                  </td><td>2133-03-31         </td><td>⋯                  </td><td>1                  </td><td>1                  </td><td>1                  </td><td>0                  </td><td>0                  </td><td>1                  </td><td>1                  </td><td>0                  </td><td>0                  </td><td>1                  </td></tr>\n",
       "</tbody>\n",
       "</table>\n"
      ],
      "text/latex": [
       "\\begin{tabular}{r|llllllllllllllllllllllllllllllllllllllllllllllllllllllllllllllllllllllllllllllllllllllllllllllllllllllllllllllllllllllllllllllllll}\n",
       " icustay\\_id & hadm\\_id & subject\\_id & first\\_careunit & intime & outtime & angus & age & icu\\_order & echo\\_time & ⋯ & lab\\_sodium\\_flag & lab\\_bun\\_flag & lab\\_bicarbonate\\_flag & lab\\_bnp\\_flag & lab\\_pco2\\_flag & lab\\_creatinine\\_flag & lab\\_potassium\\_flag & lab\\_troponin\\_flag & lab\\_po2\\_flag & lab\\_lactate\\_flag\\\\\n",
       "\\hline\n",
       "\t 228416              & 159895              &  5491               & MICU                & 2151-06-29 01:18:27 & 2151-07-27 16:00:56 & 1                   & 76.58225            & 1                   & 2151-06-30          & ⋯                   & 1                   & 1                   & 1                   & 0                   & 1                   & 1                   & 1                   & 0                   & 1                   & 1                  \\\\\n",
       "\t 278148              & 169700              & 49395               & MICU                & 2197-01-09 00:45:42 & 2197-01-10 06:46:29 & 1                   & 82.72606            & 1                   & NA                  & ⋯                   & 1                   & 1                   & 1                   & 0                   & 0                   & 1                   & 1                   & 0                   & 0                   & 0                  \\\\\n",
       "\t 274174              & 103722              & 14855               & MICU                & 2181-09-08 23:43:13 & 2181-09-26 16:52:02 & 1                   & 61.84390            & 1                   & 2181-09-11          & ⋯                   & 1                   & 1                   & 1                   & 0                   & 1                   & 1                   & 1                   & 0                   & 1                   & 1                  \\\\\n",
       "\t 214954              & 170515              & 54642               & MICU                & 2176-03-11 04:58:23 & 2176-03-15 18:00:48 & 1                   & 63.86507            & 1                   & 2176-03-11          & ⋯                   & 1                   & 1                   & 1                   & 0                   & 1                   & 1                   & 1                   & 1                   & 1                   & 1                  \\\\\n",
       "\t 222457              & 183493              & 96815               & MICU                & 2105-06-04 20:57:55 & 2105-06-06 20:01:51 & 1                   & 62.84018            & 1                   & NA                  & ⋯                   & 1                   & 1                   & 1                   & 0                   & 0                   & 1                   & 1                   & 0                   & 0                   & 0                  \\\\\n",
       "\t 264413              & 134244              & 81436               & MICU                & 2133-03-27 16:31:37 & 2133-04-04 16:15:28 & 1                   & 62.60148            & 1                   & 2133-03-31          & ⋯                   & 1                   & 1                   & 1                   & 0                   & 0                   & 1                   & 1                   & 0                   & 0                   & 1                  \\\\\n",
       "\\end{tabular}\n"
      ],
      "text/markdown": [
       "\n",
       "icustay_id | hadm_id | subject_id | first_careunit | intime | outtime | angus | age | icu_order | echo_time | ⋯ | lab_sodium_flag | lab_bun_flag | lab_bicarbonate_flag | lab_bnp_flag | lab_pco2_flag | lab_creatinine_flag | lab_potassium_flag | lab_troponin_flag | lab_po2_flag | lab_lactate_flag | \n",
       "|---|---|---|---|---|---|\n",
       "| 228416              | 159895              |  5491               | MICU                | 2151-06-29 01:18:27 | 2151-07-27 16:00:56 | 1                   | 76.58225            | 1                   | 2151-06-30          | ⋯                   | 1                   | 1                   | 1                   | 0                   | 1                   | 1                   | 1                   | 0                   | 1                   | 1                   | \n",
       "| 278148              | 169700              | 49395               | MICU                | 2197-01-09 00:45:42 | 2197-01-10 06:46:29 | 1                   | 82.72606            | 1                   | NA                  | ⋯                   | 1                   | 1                   | 1                   | 0                   | 0                   | 1                   | 1                   | 0                   | 0                   | 0                   | \n",
       "| 274174              | 103722              | 14855               | MICU                | 2181-09-08 23:43:13 | 2181-09-26 16:52:02 | 1                   | 61.84390            | 1                   | 2181-09-11          | ⋯                   | 1                   | 1                   | 1                   | 0                   | 1                   | 1                   | 1                   | 0                   | 1                   | 1                   | \n",
       "| 214954              | 170515              | 54642               | MICU                | 2176-03-11 04:58:23 | 2176-03-15 18:00:48 | 1                   | 63.86507            | 1                   | 2176-03-11          | ⋯                   | 1                   | 1                   | 1                   | 0                   | 1                   | 1                   | 1                   | 1                   | 1                   | 1                   | \n",
       "| 222457              | 183493              | 96815               | MICU                | 2105-06-04 20:57:55 | 2105-06-06 20:01:51 | 1                   | 62.84018            | 1                   | NA                  | ⋯                   | 1                   | 1                   | 1                   | 0                   | 0                   | 1                   | 1                   | 0                   | 0                   | 0                   | \n",
       "| 264413              | 134244              | 81436               | MICU                | 2133-03-27 16:31:37 | 2133-04-04 16:15:28 | 1                   | 62.60148            | 1                   | 2133-03-31          | ⋯                   | 1                   | 1                   | 1                   | 0                   | 0                   | 1                   | 1                   | 0                   | 0                   | 1                   | \n",
       "\n",
       "\n"
      ],
      "text/plain": [
       "  icustay_id hadm_id subject_id first_careunit intime             \n",
       "1 228416     159895   5491      MICU           2151-06-29 01:18:27\n",
       "2 278148     169700  49395      MICU           2197-01-09 00:45:42\n",
       "3 274174     103722  14855      MICU           2181-09-08 23:43:13\n",
       "4 214954     170515  54642      MICU           2176-03-11 04:58:23\n",
       "5 222457     183493  96815      MICU           2105-06-04 20:57:55\n",
       "6 264413     134244  81436      MICU           2133-03-27 16:31:37\n",
       "  outtime             angus age      icu_order echo_time  ⋯ lab_sodium_flag\n",
       "1 2151-07-27 16:00:56 1     76.58225 1         2151-06-30 ⋯ 1              \n",
       "2 2197-01-10 06:46:29 1     82.72606 1         <NA>       ⋯ 1              \n",
       "3 2181-09-26 16:52:02 1     61.84390 1         2181-09-11 ⋯ 1              \n",
       "4 2176-03-15 18:00:48 1     63.86507 1         2176-03-11 ⋯ 1              \n",
       "5 2105-06-06 20:01:51 1     62.84018 1         <NA>       ⋯ 1              \n",
       "6 2133-04-04 16:15:28 1     62.60148 1         2133-03-31 ⋯ 1              \n",
       "  lab_bun_flag lab_bicarbonate_flag lab_bnp_flag lab_pco2_flag\n",
       "1 1            1                    0            1            \n",
       "2 1            1                    0            0            \n",
       "3 1            1                    0            1            \n",
       "4 1            1                    0            1            \n",
       "5 1            1                    0            0            \n",
       "6 1            1                    0            0            \n",
       "  lab_creatinine_flag lab_potassium_flag lab_troponin_flag lab_po2_flag\n",
       "1 1                   1                  0                 1           \n",
       "2 1                   1                  0                 0           \n",
       "3 1                   1                  0                 1           \n",
       "4 1                   1                  1                 1           \n",
       "5 1                   1                  0                 0           \n",
       "6 1                   1                  0                 0           \n",
       "  lab_lactate_flag\n",
       "1 1               \n",
       "2 0               \n",
       "3 1               \n",
       "4 1               \n",
       "5 0               \n",
       "6 1               "
      ]
     },
     "metadata": {},
     "output_type": "display_data"
    }
   ],
   "source": [
    "full_data <- dbGetQuery(con, \"select * from merged_data\")\n",
    "head(full_data)"
   ]
  },
  {
   "cell_type": "code",
   "execution_count": 11,
   "metadata": {},
   "outputs": [
    {
     "data": {
      "text/html": [
       "<style>\n",
       ".list-inline {list-style: none; margin:0; padding: 0}\n",
       ".list-inline>li {display: inline-block}\n",
       ".list-inline>li:not(:last-child)::after {content: \"\\00b7\"; padding: 0 .5ex}\n",
       "</style>\n",
       "<ol class=list-inline><li>6361</li><li>132</li></ol>\n"
      ],
      "text/latex": [
       "\\begin{enumerate*}\n",
       "\\item 6361\n",
       "\\item 132\n",
       "\\end{enumerate*}\n"
      ],
      "text/markdown": [
       "1. 6361\n",
       "2. 132\n",
       "\n",
       "\n"
      ],
      "text/plain": [
       "[1] 6361  132"
      ]
     },
     "metadata": {},
     "output_type": "display_data"
    }
   ],
   "source": [
    "dim(full_data)"
   ]
  },
  {
   "cell_type": "code",
   "execution_count": 14,
   "metadata": {},
   "outputs": [],
   "source": [
    "write.csv(full_data, file=\"../data/preprocessed.csv\")"
   ]
  },
  {
   "cell_type": "code",
   "execution_count": null,
   "metadata": {},
   "outputs": [],
   "source": []
  },
  {
   "cell_type": "code",
   "execution_count": 13,
   "metadata": {},
   "outputs": [
    {
     "data": {
      "text/html": [
       "'data.frame'"
      ],
      "text/latex": [
       "'data.frame'"
      ],
      "text/markdown": [
       "'data.frame'"
      ],
      "text/plain": [
       "[1] \"data.frame\""
      ]
     },
     "metadata": {},
     "output_type": "display_data"
    }
   ],
   "source": [
    "class(full_data)"
   ]
  },
  {
   "cell_type": "code",
   "execution_count": null,
   "metadata": {},
   "outputs": [],
   "source": [
    "feature_names %>%\n",
    "data.frame(feature = ., stringsAsFactors = FALSE) %>%\n",
    "data.table::fwrite(file = file.path(data_dir, \"features.csv\"))"
   ]
  },
  {
   "cell_type": "code",
   "execution_count": 5,
   "metadata": {},
   "outputs": [
    {
     "data": {
      "text/html": [
       "TRUE"
      ],
      "text/latex": [
       "TRUE"
      ],
      "text/markdown": [
       "TRUE"
      ],
      "text/plain": [
       "[1] TRUE"
      ]
     },
     "metadata": {},
     "output_type": "display_data"
    },
    {
     "data": {
      "text/html": [
       "TRUE"
      ],
      "text/latex": [
       "TRUE"
      ],
      "text/markdown": [
       "TRUE"
      ],
      "text/plain": [
       "[1] TRUE"
      ]
     },
     "metadata": {},
     "output_type": "display_data"
    }
   ],
   "source": [
    "dbDisconnect(con)\n",
    "dbUnloadDriver(drv)"
   ]
  },
  {
   "cell_type": "code",
   "execution_count": 6,
   "metadata": {},
   "outputs": [],
   "source": [
    "to_factor <- function(x) {\n",
    "    if(length(na.omit(unique(x))) <= 1) return(factor(x, levels = c(0, 1)))\n",
    "    return(factor(x))\n",
    "}"
   ]
  },
  {
   "cell_type": "code",
   "execution_count": 7,
   "metadata": {},
   "outputs": [
    {
     "data": {
      "text/html": [
       "<style>\n",
       ".list-inline {list-style: none; margin:0; padding: 0}\n",
       ".list-inline>li {display: inline-block}\n",
       ".list-inline>li:not(:last-child)::after {content: \"\\00b7\"; padding: 0 .5ex}\n",
       "</style>\n",
       "<ol class=list-inline><li>'icd_chf'</li><li>'icd_afib'</li><li>'icd_renal'</li><li>'icd_liver'</li><li>'icd_copd'</li><li>'icd_cad'</li><li>'icd_stroke'</li><li>'icd_malignancy'</li><li>'lab_chloride_abnormal'</li><li>'lab_creatinine_abnormal'</li><li>'lab_platelet_abnormal'</li><li>'lab_potassium_abnormal'</li><li>'lab_troponin_abnormal'</li><li>'lab_po2_abnormal'</li><li>'lab_lactate_abnormal'</li><li>'lab_hemoglobin_abnormal'</li><li>'lab_sodium_abnormal'</li><li>'lab_creatinine_kinase_abnormal'</li><li>'lab_ph_abnormal'</li><li>'lab_bnp_abnormal'</li><li>'lab_bicarbonate_abnormal'</li><li>'lab_wbc_abnormal'</li><li>'lab_bun_abnormal'</li><li>'lab_pco2_abnormal'</li><li>'sedative'</li><li>'vs_cvp_flag'</li><li>'vs_heart_rate_flag'</li><li>'vs_map_flag'</li><li>'vs_temp_flag'</li><li>'lab_chloride_flag'</li><li>'lab_creatinine_flag'</li><li>'lab_platelet_flag'</li><li>'lab_potassium_flag'</li><li>'lab_troponin_flag'</li><li>'lab_po2_flag'</li><li>'lab_lactate_flag'</li><li>'lab_hemoglobin_flag'</li><li>'lab_sodium_flag'</li><li>'lab_creatinine_kinase_flag'</li><li>'lab_ph_flag'</li><li>'lab_bnp_flag'</li><li>'lab_bicarbonate_flag'</li><li>'lab_wbc_flag'</li><li>'lab_bun_flag'</li><li>'lab_pco2_flag'</li><li>'gender'</li><li>'first_careunit'</li><li>'echo'</li><li>'vent'</li><li>'vaso'</li><li>'icu_adm_hour'</li><li>'mort_28_day'</li></ol>\n"
      ],
      "text/latex": [
       "\\begin{enumerate*}\n",
       "\\item 'icd\\_chf'\n",
       "\\item 'icd\\_afib'\n",
       "\\item 'icd\\_renal'\n",
       "\\item 'icd\\_liver'\n",
       "\\item 'icd\\_copd'\n",
       "\\item 'icd\\_cad'\n",
       "\\item 'icd\\_stroke'\n",
       "\\item 'icd\\_malignancy'\n",
       "\\item 'lab\\_chloride\\_abnormal'\n",
       "\\item 'lab\\_creatinine\\_abnormal'\n",
       "\\item 'lab\\_platelet\\_abnormal'\n",
       "\\item 'lab\\_potassium\\_abnormal'\n",
       "\\item 'lab\\_troponin\\_abnormal'\n",
       "\\item 'lab\\_po2\\_abnormal'\n",
       "\\item 'lab\\_lactate\\_abnormal'\n",
       "\\item 'lab\\_hemoglobin\\_abnormal'\n",
       "\\item 'lab\\_sodium\\_abnormal'\n",
       "\\item 'lab\\_creatinine\\_kinase\\_abnormal'\n",
       "\\item 'lab\\_ph\\_abnormal'\n",
       "\\item 'lab\\_bnp\\_abnormal'\n",
       "\\item 'lab\\_bicarbonate\\_abnormal'\n",
       "\\item 'lab\\_wbc\\_abnormal'\n",
       "\\item 'lab\\_bun\\_abnormal'\n",
       "\\item 'lab\\_pco2\\_abnormal'\n",
       "\\item 'sedative'\n",
       "\\item 'vs\\_cvp\\_flag'\n",
       "\\item 'vs\\_heart\\_rate\\_flag'\n",
       "\\item 'vs\\_map\\_flag'\n",
       "\\item 'vs\\_temp\\_flag'\n",
       "\\item 'lab\\_chloride\\_flag'\n",
       "\\item 'lab\\_creatinine\\_flag'\n",
       "\\item 'lab\\_platelet\\_flag'\n",
       "\\item 'lab\\_potassium\\_flag'\n",
       "\\item 'lab\\_troponin\\_flag'\n",
       "\\item 'lab\\_po2\\_flag'\n",
       "\\item 'lab\\_lactate\\_flag'\n",
       "\\item 'lab\\_hemoglobin\\_flag'\n",
       "\\item 'lab\\_sodium\\_flag'\n",
       "\\item 'lab\\_creatinine\\_kinase\\_flag'\n",
       "\\item 'lab\\_ph\\_flag'\n",
       "\\item 'lab\\_bnp\\_flag'\n",
       "\\item 'lab\\_bicarbonate\\_flag'\n",
       "\\item 'lab\\_wbc\\_flag'\n",
       "\\item 'lab\\_bun\\_flag'\n",
       "\\item 'lab\\_pco2\\_flag'\n",
       "\\item 'gender'\n",
       "\\item 'first\\_careunit'\n",
       "\\item 'echo'\n",
       "\\item 'vent'\n",
       "\\item 'vaso'\n",
       "\\item 'icu\\_adm\\_hour'\n",
       "\\item 'mort\\_28\\_day'\n",
       "\\end{enumerate*}\n"
      ],
      "text/markdown": [
       "1. 'icd_chf'\n",
       "2. 'icd_afib'\n",
       "3. 'icd_renal'\n",
       "4. 'icd_liver'\n",
       "5. 'icd_copd'\n",
       "6. 'icd_cad'\n",
       "7. 'icd_stroke'\n",
       "8. 'icd_malignancy'\n",
       "9. 'lab_chloride_abnormal'\n",
       "10. 'lab_creatinine_abnormal'\n",
       "11. 'lab_platelet_abnormal'\n",
       "12. 'lab_potassium_abnormal'\n",
       "13. 'lab_troponin_abnormal'\n",
       "14. 'lab_po2_abnormal'\n",
       "15. 'lab_lactate_abnormal'\n",
       "16. 'lab_hemoglobin_abnormal'\n",
       "17. 'lab_sodium_abnormal'\n",
       "18. 'lab_creatinine_kinase_abnormal'\n",
       "19. 'lab_ph_abnormal'\n",
       "20. 'lab_bnp_abnormal'\n",
       "21. 'lab_bicarbonate_abnormal'\n",
       "22. 'lab_wbc_abnormal'\n",
       "23. 'lab_bun_abnormal'\n",
       "24. 'lab_pco2_abnormal'\n",
       "25. 'sedative'\n",
       "26. 'vs_cvp_flag'\n",
       "27. 'vs_heart_rate_flag'\n",
       "28. 'vs_map_flag'\n",
       "29. 'vs_temp_flag'\n",
       "30. 'lab_chloride_flag'\n",
       "31. 'lab_creatinine_flag'\n",
       "32. 'lab_platelet_flag'\n",
       "33. 'lab_potassium_flag'\n",
       "34. 'lab_troponin_flag'\n",
       "35. 'lab_po2_flag'\n",
       "36. 'lab_lactate_flag'\n",
       "37. 'lab_hemoglobin_flag'\n",
       "38. 'lab_sodium_flag'\n",
       "39. 'lab_creatinine_kinase_flag'\n",
       "40. 'lab_ph_flag'\n",
       "41. 'lab_bnp_flag'\n",
       "42. 'lab_bicarbonate_flag'\n",
       "43. 'lab_wbc_flag'\n",
       "44. 'lab_bun_flag'\n",
       "45. 'lab_pco2_flag'\n",
       "46. 'gender'\n",
       "47. 'first_careunit'\n",
       "48. 'echo'\n",
       "49. 'vent'\n",
       "50. 'vaso'\n",
       "51. 'icu_adm_hour'\n",
       "52. 'mort_28_day'\n",
       "\n",
       "\n"
      ],
      "text/plain": [
       " [1] \"icd_chf\"                        \"icd_afib\"                      \n",
       " [3] \"icd_renal\"                      \"icd_liver\"                     \n",
       " [5] \"icd_copd\"                       \"icd_cad\"                       \n",
       " [7] \"icd_stroke\"                     \"icd_malignancy\"                \n",
       " [9] \"lab_chloride_abnormal\"          \"lab_creatinine_abnormal\"       \n",
       "[11] \"lab_platelet_abnormal\"          \"lab_potassium_abnormal\"        \n",
       "[13] \"lab_troponin_abnormal\"          \"lab_po2_abnormal\"              \n",
       "[15] \"lab_lactate_abnormal\"           \"lab_hemoglobin_abnormal\"       \n",
       "[17] \"lab_sodium_abnormal\"            \"lab_creatinine_kinase_abnormal\"\n",
       "[19] \"lab_ph_abnormal\"                \"lab_bnp_abnormal\"              \n",
       "[21] \"lab_bicarbonate_abnormal\"       \"lab_wbc_abnormal\"              \n",
       "[23] \"lab_bun_abnormal\"               \"lab_pco2_abnormal\"             \n",
       "[25] \"sedative\"                       \"vs_cvp_flag\"                   \n",
       "[27] \"vs_heart_rate_flag\"             \"vs_map_flag\"                   \n",
       "[29] \"vs_temp_flag\"                   \"lab_chloride_flag\"             \n",
       "[31] \"lab_creatinine_flag\"            \"lab_platelet_flag\"             \n",
       "[33] \"lab_potassium_flag\"             \"lab_troponin_flag\"             \n",
       "[35] \"lab_po2_flag\"                   \"lab_lactate_flag\"              \n",
       "[37] \"lab_hemoglobin_flag\"            \"lab_sodium_flag\"               \n",
       "[39] \"lab_creatinine_kinase_flag\"     \"lab_ph_flag\"                   \n",
       "[41] \"lab_bnp_flag\"                   \"lab_bicarbonate_flag\"          \n",
       "[43] \"lab_wbc_flag\"                   \"lab_bun_flag\"                  \n",
       "[45] \"lab_pco2_flag\"                  \"gender\"                        \n",
       "[47] \"first_careunit\"                 \"echo\"                          \n",
       "[49] \"vent\"                           \"vaso\"                          \n",
       "[51] \"icu_adm_hour\"                   \"mort_28_day\"                   "
      ]
     },
     "metadata": {},
     "output_type": "display_data"
    }
   ],
   "source": [
    "factor_vars <- full_data %>%\n",
    "    names %>%\n",
    "    grep(\"flag|abnormal|icd|sedative\", ., value = TRUE) %>%\n",
    "    c(\"gender\", \"first_careunit\", \"echo\", \"vent\", \"vaso\",\n",
    "      \"icu_adm_hour\", \"mort_28_day\")\n",
    "factor_vars"
   ]
  },
  {
   "cell_type": "code",
   "execution_count": 8,
   "metadata": {},
   "outputs": [
    {
     "data": {
      "text/html": [
       "<style>\n",
       ".list-inline {list-style: none; margin:0; padding: 0}\n",
       ".list-inline>li {display: inline-block}\n",
       ".list-inline>li:not(:last-child)::after {content: \"\\00b7\"; padding: 0 .5ex}\n",
       "</style>\n",
       "<ol class=list-inline><li>'sunday'</li><li>'monday'</li><li>'tuesday'</li><li>'wednesday'</li><li>'thursday'</li><li>'friday'</li><li>'saturday'</li></ol>\n"
      ],
      "text/latex": [
       "\\begin{enumerate*}\n",
       "\\item 'sunday'\n",
       "\\item 'monday'\n",
       "\\item 'tuesday'\n",
       "\\item 'wednesday'\n",
       "\\item 'thursday'\n",
       "\\item 'friday'\n",
       "\\item 'saturday'\n",
       "\\end{enumerate*}\n"
      ],
      "text/markdown": [
       "1. 'sunday'\n",
       "2. 'monday'\n",
       "3. 'tuesday'\n",
       "4. 'wednesday'\n",
       "5. 'thursday'\n",
       "6. 'friday'\n",
       "7. 'saturday'\n",
       "\n",
       "\n"
      ],
      "text/plain": [
       "[1] \"sunday\"    \"monday\"    \"tuesday\"   \"wednesday\" \"thursday\"  \"friday\"   \n",
       "[7] \"saturday\" "
      ]
     },
     "metadata": {},
     "output_type": "display_data"
    }
   ],
   "source": [
    "weekday <- c(\"sun\", \"mon\", \"tues\", \"wednes\", \"thurs\", \"fri\", \"satur\") %>%\n",
    "paste0(\"day\")\n",
    "weekday"
   ]
  },
  {
   "cell_type": "code",
   "execution_count": 9,
   "metadata": {},
   "outputs": [
    {
     "data": {
      "text/html": [
       "<style>\n",
       ".list-inline {list-style: none; margin:0; padding: 0}\n",
       ".list-inline>li {display: inline-block}\n",
       ".list-inline>li:not(:last-child)::after {content: \"\\00b7\"; padding: 0 .5ex}\n",
       "</style>\n",
       "<ol class=list-inline><li>0</li><li>0</li><li>1</li><li>0</li><li>0</li><li>0</li></ol>\n",
       "\n",
       "<details>\n",
       "\t<summary style=display:list-item;cursor:pointer>\n",
       "\t\t<strong>Levels</strong>:\n",
       "\t</summary>\n",
       "\t<style>\n",
       "\t.list-inline {list-style: none; margin:0; padding: 0}\n",
       "\t.list-inline>li {display: inline-block}\n",
       "\t.list-inline>li:not(:last-child)::after {content: \"\\00b7\"; padding: 0 .5ex}\n",
       "\t</style>\n",
       "\t<ol class=list-inline><li>'0'</li><li>'1'</li></ol>\n",
       "</details>"
      ],
      "text/latex": [
       "\\begin{enumerate*}\n",
       "\\item 0\n",
       "\\item 0\n",
       "\\item 1\n",
       "\\item 0\n",
       "\\item 0\n",
       "\\item 0\n",
       "\\end{enumerate*}\n",
       "\n",
       "\\emph{Levels}: \\begin{enumerate*}\n",
       "\\item '0'\n",
       "\\item '1'\n",
       "\\end{enumerate*}\n"
      ],
      "text/markdown": [
       "1. 0\n",
       "2. 0\n",
       "3. 1\n",
       "4. 0\n",
       "5. 0\n",
       "6. 0\n",
       "\n",
       "\n",
       "\n",
       "**Levels**: 1. '0'\n",
       "2. '1'\n",
       "\n",
       "\n"
      ],
      "text/plain": [
       "[1] 0 0 1 0 0 0\n",
       "Levels: 0 1"
      ]
     },
     "metadata": {},
     "output_type": "display_data"
    }
   ],
   "source": [
    "full_data <- full_data %>%\n",
    "    mutate(echo_int = as.integer(echo)) %>%\n",
    "    mutate(icu_adm_weekday = weekday[icu_adm_weekday + 1]) %>%\n",
    "    mutate(mort_28_day_int = as.integer(mort_28_day)) %>%\n",
    "    mutate_at(factor_vars, to_factor) %>%\n",
    "    mutate(icu_adm_weekday = factor(icu_adm_weekday, levels = weekday)) %>%\n",
    "    mutate(gender = relevel(gender, \"M\")) %>%\n",
    "    mutate(first_careunit = relevel(first_careunit, \"SICU\"))\n",
    "full_data %>% pull(echo) %>% head"
   ]
  },
  {
   "cell_type": "code",
   "execution_count": 10,
   "metadata": {},
   "outputs": [
    {
     "data": {
      "text/html": [
       "<style>\n",
       ".list-inline {list-style: none; margin:0; padding: 0}\n",
       ".list-inline>li {display: inline-block}\n",
       ".list-inline>li:not(:last-child)::after {content: \"\\00b7\"; padding: 0 .5ex}\n",
       "</style>\n",
       "<ol class=list-inline><li>'first_careunit'</li><li>'age'</li><li>'gender'</li><li>'weight'</li><li>'saps'</li><li>'sofa'</li><li>'elix_score'</li><li>'vent'</li><li>'vaso'</li><li>'icu_adm_weekday'</li><li>'icu_adm_hour'</li><li>'icd_chf'</li><li>'icd_afib'</li><li>'icd_renal'</li><li>'icd_liver'</li><li>'icd_copd'</li><li>'icd_cad'</li><li>'icd_stroke'</li><li>'icd_malignancy'</li><li>'vs_heart_rate_first'</li><li>'vs_map_first'</li><li>'vs_temp_first'</li><li>'lab_chloride_first'</li><li>'lab_creatinine_first'</li><li>'lab_platelet_first'</li><li>'lab_potassium_first'</li><li>'lab_po2_first'</li><li>'lab_lactate_first'</li><li>'lab_hemoglobin_first'</li><li>'lab_sodium_first'</li><li>'lab_ph_first'</li><li>'lab_bicarbonate_first'</li><li>'lab_wbc_first'</li><li>'lab_bun_first'</li><li>'lab_pco2_first'</li><li>'sedative'</li><li>'vs_cvp_flag'</li><li>'lab_troponin_flag'</li><li>'lab_creatinine_kinase_flag'</li><li>'lab_bnp_flag'</li></ol>\n"
      ],
      "text/latex": [
       "\\begin{enumerate*}\n",
       "\\item 'first\\_careunit'\n",
       "\\item 'age'\n",
       "\\item 'gender'\n",
       "\\item 'weight'\n",
       "\\item 'saps'\n",
       "\\item 'sofa'\n",
       "\\item 'elix\\_score'\n",
       "\\item 'vent'\n",
       "\\item 'vaso'\n",
       "\\item 'icu\\_adm\\_weekday'\n",
       "\\item 'icu\\_adm\\_hour'\n",
       "\\item 'icd\\_chf'\n",
       "\\item 'icd\\_afib'\n",
       "\\item 'icd\\_renal'\n",
       "\\item 'icd\\_liver'\n",
       "\\item 'icd\\_copd'\n",
       "\\item 'icd\\_cad'\n",
       "\\item 'icd\\_stroke'\n",
       "\\item 'icd\\_malignancy'\n",
       "\\item 'vs\\_heart\\_rate\\_first'\n",
       "\\item 'vs\\_map\\_first'\n",
       "\\item 'vs\\_temp\\_first'\n",
       "\\item 'lab\\_chloride\\_first'\n",
       "\\item 'lab\\_creatinine\\_first'\n",
       "\\item 'lab\\_platelet\\_first'\n",
       "\\item 'lab\\_potassium\\_first'\n",
       "\\item 'lab\\_po2\\_first'\n",
       "\\item 'lab\\_lactate\\_first'\n",
       "\\item 'lab\\_hemoglobin\\_first'\n",
       "\\item 'lab\\_sodium\\_first'\n",
       "\\item 'lab\\_ph\\_first'\n",
       "\\item 'lab\\_bicarbonate\\_first'\n",
       "\\item 'lab\\_wbc\\_first'\n",
       "\\item 'lab\\_bun\\_first'\n",
       "\\item 'lab\\_pco2\\_first'\n",
       "\\item 'sedative'\n",
       "\\item 'vs\\_cvp\\_flag'\n",
       "\\item 'lab\\_troponin\\_flag'\n",
       "\\item 'lab\\_creatinine\\_kinase\\_flag'\n",
       "\\item 'lab\\_bnp\\_flag'\n",
       "\\end{enumerate*}\n"
      ],
      "text/markdown": [
       "1. 'first_careunit'\n",
       "2. 'age'\n",
       "3. 'gender'\n",
       "4. 'weight'\n",
       "5. 'saps'\n",
       "6. 'sofa'\n",
       "7. 'elix_score'\n",
       "8. 'vent'\n",
       "9. 'vaso'\n",
       "10. 'icu_adm_weekday'\n",
       "11. 'icu_adm_hour'\n",
       "12. 'icd_chf'\n",
       "13. 'icd_afib'\n",
       "14. 'icd_renal'\n",
       "15. 'icd_liver'\n",
       "16. 'icd_copd'\n",
       "17. 'icd_cad'\n",
       "18. 'icd_stroke'\n",
       "19. 'icd_malignancy'\n",
       "20. 'vs_heart_rate_first'\n",
       "21. 'vs_map_first'\n",
       "22. 'vs_temp_first'\n",
       "23. 'lab_chloride_first'\n",
       "24. 'lab_creatinine_first'\n",
       "25. 'lab_platelet_first'\n",
       "26. 'lab_potassium_first'\n",
       "27. 'lab_po2_first'\n",
       "28. 'lab_lactate_first'\n",
       "29. 'lab_hemoglobin_first'\n",
       "30. 'lab_sodium_first'\n",
       "31. 'lab_ph_first'\n",
       "32. 'lab_bicarbonate_first'\n",
       "33. 'lab_wbc_first'\n",
       "34. 'lab_bun_first'\n",
       "35. 'lab_pco2_first'\n",
       "36. 'sedative'\n",
       "37. 'vs_cvp_flag'\n",
       "38. 'lab_troponin_flag'\n",
       "39. 'lab_creatinine_kinase_flag'\n",
       "40. 'lab_bnp_flag'\n",
       "\n",
       "\n"
      ],
      "text/plain": [
       " [1] \"first_careunit\"             \"age\"                       \n",
       " [3] \"gender\"                     \"weight\"                    \n",
       " [5] \"saps\"                       \"sofa\"                      \n",
       " [7] \"elix_score\"                 \"vent\"                      \n",
       " [9] \"vaso\"                       \"icu_adm_weekday\"           \n",
       "[11] \"icu_adm_hour\"               \"icd_chf\"                   \n",
       "[13] \"icd_afib\"                   \"icd_renal\"                 \n",
       "[15] \"icd_liver\"                  \"icd_copd\"                  \n",
       "[17] \"icd_cad\"                    \"icd_stroke\"                \n",
       "[19] \"icd_malignancy\"             \"vs_heart_rate_first\"       \n",
       "[21] \"vs_map_first\"               \"vs_temp_first\"             \n",
       "[23] \"lab_chloride_first\"         \"lab_creatinine_first\"      \n",
       "[25] \"lab_platelet_first\"         \"lab_potassium_first\"       \n",
       "[27] \"lab_po2_first\"              \"lab_lactate_first\"         \n",
       "[29] \"lab_hemoglobin_first\"       \"lab_sodium_first\"          \n",
       "[31] \"lab_ph_first\"               \"lab_bicarbonate_first\"     \n",
       "[33] \"lab_wbc_first\"              \"lab_bun_first\"             \n",
       "[35] \"lab_pco2_first\"             \"sedative\"                  \n",
       "[37] \"vs_cvp_flag\"                \"lab_troponin_flag\"         \n",
       "[39] \"lab_creatinine_kinase_flag\" \"lab_bnp_flag\"              "
      ]
     },
     "metadata": {},
     "output_type": "display_data"
    },
    {
     "data": {
      "text/html": [
       "40"
      ],
      "text/latex": [
       "40"
      ],
      "text/markdown": [
       "40"
      ],
      "text/plain": [
       "[1] 40"
      ]
     },
     "metadata": {},
     "output_type": "display_data"
    }
   ],
   "source": [
    "feature_names <- full_data %>%\n",
    "    names %>%\n",
    "    keep(grepl(\"vs|lab|icd|age|gender|weight|saps|sofa|elix_score|vent|vaso|icu_adm|careunit|sedative\", .)) %>%\n",
    "    discard(grepl(\"vs|lab\", .) & grepl(\"flag\", .) & !grepl(\"bnp|troponin|kinase|cvp\", .)) %>%\n",
    "    discard(grepl(\"bnp|troponin|kinase|cvp\", .) & !grepl(\"flag\", .)) %>%\n",
    "    discard(grepl(\"min|max\", .)) %>%\n",
    "    discard(grepl(\"abnormal\", .))\n",
    "feature_names\n",
    "length(feature_names)"
   ]
  },
  {
   "cell_type": "code",
   "execution_count": 12,
   "metadata": {},
   "outputs": [
    {
     "data": {
      "text/html": [
       "<style>\n",
       ".list-inline {list-style: none; margin:0; padding: 0}\n",
       ".list-inline>li {display: inline-block}\n",
       ".list-inline>li:not(:last-child)::after {content: \"\\00b7\"; padding: 0 .5ex}\n",
       "</style>\n",
       "<ol class=list-inline><li>'icustay_id'</li><li>'hadm_id'</li><li>'subject_id'</li><li>'first_careunit'</li><li>'intime'</li><li>'outtime'</li><li>'angus'</li><li>'age'</li><li>'icu_order'</li><li>'echo_time'</li><li>'echo_exclude'</li><li>'echo_include'</li><li>'echo'</li><li>'gender'</li><li>'weight'</li><li>'saps'</li><li>'sofa'</li><li>'elix_score'</li><li>'vent'</li><li>'vaso'</li><li>'icu_adm_weekday'</li><li>'icu_adm_hour'</li><li>'deathtime'</li><li>'mort_28_day'</li><li>'icu_los_day'</li><li>'icd_chf'</li><li>'icd_afib'</li><li>'icd_renal'</li><li>'icd_liver'</li><li>'icd_copd'</li><li>'icd_cad'</li><li>'icd_stroke'</li><li>'icd_malignancy'</li><li>'vs_cvp_first'</li><li>'vs_cvp_min'</li><li>'vs_cvp_max'</li><li>'vs_heart_rate_first'</li><li>'vs_heart_rate_min'</li><li>'vs_heart_rate_max'</li><li>'vs_map_first'</li><li>'vs_map_min'</li><li>'vs_map_max'</li><li>'vs_temp_first'</li><li>'vs_temp_min'</li><li>'vs_temp_max'</li><li>'lab_chloride_first'</li><li>'lab_chloride_min'</li><li>'lab_chloride_max'</li><li>'lab_chloride_abnormal'</li><li>'lab_creatinine_first'</li><li>'lab_creatinine_min'</li><li>'lab_creatinine_max'</li><li>'lab_creatinine_abnormal'</li><li>'lab_platelet_first'</li><li>'lab_platelet_min'</li><li>'lab_platelet_max'</li><li>'lab_platelet_abnormal'</li><li>'lab_potassium_first'</li><li>'lab_potassium_min'</li><li>'lab_potassium_max'</li><li>'lab_potassium_abnormal'</li><li>'lab_troponin_first'</li><li>'lab_troponin_min'</li><li>'lab_troponin_max'</li><li>'lab_troponin_abnormal'</li><li>'lab_po2_first'</li><li>'lab_po2_min'</li><li>'lab_po2_max'</li><li>'lab_po2_abnormal'</li><li>'lab_lactate_first'</li><li>'lab_lactate_min'</li><li>'lab_lactate_max'</li><li>'lab_lactate_abnormal'</li><li>'lab_hemoglobin_first'</li><li>'lab_hemoglobin_min'</li><li>'lab_hemoglobin_max'</li><li>'lab_hemoglobin_abnormal'</li><li>'lab_sodium_first'</li><li>'lab_sodium_min'</li><li>'lab_sodium_max'</li><li>'lab_sodium_abnormal'</li><li>'lab_creatinine_kinase_first'</li><li>'lab_creatinine_kinase_min'</li><li>'lab_creatinine_kinase_max'</li><li>'lab_creatinine_kinase_abnormal'</li><li>'lab_ph_first'</li><li>'lab_ph_min'</li><li>'lab_ph_max'</li><li>'lab_ph_abnormal'</li><li>'lab_bnp_first'</li><li>'lab_bnp_min'</li><li>'lab_bnp_max'</li><li>'lab_bnp_abnormal'</li><li>'lab_bicarbonate_first'</li><li>'lab_bicarbonate_min'</li><li>'lab_bicarbonate_max'</li><li>'lab_bicarbonate_abnormal'</li><li>'lab_wbc_first'</li><li>'lab_wbc_min'</li><li>'lab_wbc_max'</li><li>'lab_wbc_abnormal'</li><li>'lab_bun_first'</li><li>'lab_bun_min'</li><li>'lab_bun_max'</li><li>'lab_bun_abnormal'</li><li>'lab_pco2_first'</li><li>'lab_pco2_min'</li><li>'lab_pco2_max'</li><li>'lab_pco2_abnormal'</li><li>'sedative'</li><li>'vs_cvp_flag'</li><li>'vs_heart_rate_flag'</li><li>'vs_map_flag'</li><li>'vs_temp_flag'</li><li>'lab_chloride_flag'</li><li>'lab_creatinine_flag'</li><li>'lab_platelet_flag'</li><li>'lab_potassium_flag'</li><li>'lab_troponin_flag'</li><li>'lab_po2_flag'</li><li>'lab_lactate_flag'</li><li>'lab_hemoglobin_flag'</li><li>'lab_sodium_flag'</li><li>'lab_creatinine_kinase_flag'</li><li>'lab_ph_flag'</li><li>'lab_bnp_flag'</li><li>'lab_bicarbonate_flag'</li><li>'lab_wbc_flag'</li><li>'lab_bun_flag'</li><li>'lab_pco2_flag'</li><li>'echo_int'</li><li>'mort_28_day_int'</li></ol>\n"
      ],
      "text/latex": [
       "\\begin{enumerate*}\n",
       "\\item 'icustay\\_id'\n",
       "\\item 'hadm\\_id'\n",
       "\\item 'subject\\_id'\n",
       "\\item 'first\\_careunit'\n",
       "\\item 'intime'\n",
       "\\item 'outtime'\n",
       "\\item 'angus'\n",
       "\\item 'age'\n",
       "\\item 'icu\\_order'\n",
       "\\item 'echo\\_time'\n",
       "\\item 'echo\\_exclude'\n",
       "\\item 'echo\\_include'\n",
       "\\item 'echo'\n",
       "\\item 'gender'\n",
       "\\item 'weight'\n",
       "\\item 'saps'\n",
       "\\item 'sofa'\n",
       "\\item 'elix\\_score'\n",
       "\\item 'vent'\n",
       "\\item 'vaso'\n",
       "\\item 'icu\\_adm\\_weekday'\n",
       "\\item 'icu\\_adm\\_hour'\n",
       "\\item 'deathtime'\n",
       "\\item 'mort\\_28\\_day'\n",
       "\\item 'icu\\_los\\_day'\n",
       "\\item 'icd\\_chf'\n",
       "\\item 'icd\\_afib'\n",
       "\\item 'icd\\_renal'\n",
       "\\item 'icd\\_liver'\n",
       "\\item 'icd\\_copd'\n",
       "\\item 'icd\\_cad'\n",
       "\\item 'icd\\_stroke'\n",
       "\\item 'icd\\_malignancy'\n",
       "\\item 'vs\\_cvp\\_first'\n",
       "\\item 'vs\\_cvp\\_min'\n",
       "\\item 'vs\\_cvp\\_max'\n",
       "\\item 'vs\\_heart\\_rate\\_first'\n",
       "\\item 'vs\\_heart\\_rate\\_min'\n",
       "\\item 'vs\\_heart\\_rate\\_max'\n",
       "\\item 'vs\\_map\\_first'\n",
       "\\item 'vs\\_map\\_min'\n",
       "\\item 'vs\\_map\\_max'\n",
       "\\item 'vs\\_temp\\_first'\n",
       "\\item 'vs\\_temp\\_min'\n",
       "\\item 'vs\\_temp\\_max'\n",
       "\\item 'lab\\_chloride\\_first'\n",
       "\\item 'lab\\_chloride\\_min'\n",
       "\\item 'lab\\_chloride\\_max'\n",
       "\\item 'lab\\_chloride\\_abnormal'\n",
       "\\item 'lab\\_creatinine\\_first'\n",
       "\\item 'lab\\_creatinine\\_min'\n",
       "\\item 'lab\\_creatinine\\_max'\n",
       "\\item 'lab\\_creatinine\\_abnormal'\n",
       "\\item 'lab\\_platelet\\_first'\n",
       "\\item 'lab\\_platelet\\_min'\n",
       "\\item 'lab\\_platelet\\_max'\n",
       "\\item 'lab\\_platelet\\_abnormal'\n",
       "\\item 'lab\\_potassium\\_first'\n",
       "\\item 'lab\\_potassium\\_min'\n",
       "\\item 'lab\\_potassium\\_max'\n",
       "\\item 'lab\\_potassium\\_abnormal'\n",
       "\\item 'lab\\_troponin\\_first'\n",
       "\\item 'lab\\_troponin\\_min'\n",
       "\\item 'lab\\_troponin\\_max'\n",
       "\\item 'lab\\_troponin\\_abnormal'\n",
       "\\item 'lab\\_po2\\_first'\n",
       "\\item 'lab\\_po2\\_min'\n",
       "\\item 'lab\\_po2\\_max'\n",
       "\\item 'lab\\_po2\\_abnormal'\n",
       "\\item 'lab\\_lactate\\_first'\n",
       "\\item 'lab\\_lactate\\_min'\n",
       "\\item 'lab\\_lactate\\_max'\n",
       "\\item 'lab\\_lactate\\_abnormal'\n",
       "\\item 'lab\\_hemoglobin\\_first'\n",
       "\\item 'lab\\_hemoglobin\\_min'\n",
       "\\item 'lab\\_hemoglobin\\_max'\n",
       "\\item 'lab\\_hemoglobin\\_abnormal'\n",
       "\\item 'lab\\_sodium\\_first'\n",
       "\\item 'lab\\_sodium\\_min'\n",
       "\\item 'lab\\_sodium\\_max'\n",
       "\\item 'lab\\_sodium\\_abnormal'\n",
       "\\item 'lab\\_creatinine\\_kinase\\_first'\n",
       "\\item 'lab\\_creatinine\\_kinase\\_min'\n",
       "\\item 'lab\\_creatinine\\_kinase\\_max'\n",
       "\\item 'lab\\_creatinine\\_kinase\\_abnormal'\n",
       "\\item 'lab\\_ph\\_first'\n",
       "\\item 'lab\\_ph\\_min'\n",
       "\\item 'lab\\_ph\\_max'\n",
       "\\item 'lab\\_ph\\_abnormal'\n",
       "\\item 'lab\\_bnp\\_first'\n",
       "\\item 'lab\\_bnp\\_min'\n",
       "\\item 'lab\\_bnp\\_max'\n",
       "\\item 'lab\\_bnp\\_abnormal'\n",
       "\\item 'lab\\_bicarbonate\\_first'\n",
       "\\item 'lab\\_bicarbonate\\_min'\n",
       "\\item 'lab\\_bicarbonate\\_max'\n",
       "\\item 'lab\\_bicarbonate\\_abnormal'\n",
       "\\item 'lab\\_wbc\\_first'\n",
       "\\item 'lab\\_wbc\\_min'\n",
       "\\item 'lab\\_wbc\\_max'\n",
       "\\item 'lab\\_wbc\\_abnormal'\n",
       "\\item 'lab\\_bun\\_first'\n",
       "\\item 'lab\\_bun\\_min'\n",
       "\\item 'lab\\_bun\\_max'\n",
       "\\item 'lab\\_bun\\_abnormal'\n",
       "\\item 'lab\\_pco2\\_first'\n",
       "\\item 'lab\\_pco2\\_min'\n",
       "\\item 'lab\\_pco2\\_max'\n",
       "\\item 'lab\\_pco2\\_abnormal'\n",
       "\\item 'sedative'\n",
       "\\item 'vs\\_cvp\\_flag'\n",
       "\\item 'vs\\_heart\\_rate\\_flag'\n",
       "\\item 'vs\\_map\\_flag'\n",
       "\\item 'vs\\_temp\\_flag'\n",
       "\\item 'lab\\_chloride\\_flag'\n",
       "\\item 'lab\\_creatinine\\_flag'\n",
       "\\item 'lab\\_platelet\\_flag'\n",
       "\\item 'lab\\_potassium\\_flag'\n",
       "\\item 'lab\\_troponin\\_flag'\n",
       "\\item 'lab\\_po2\\_flag'\n",
       "\\item 'lab\\_lactate\\_flag'\n",
       "\\item 'lab\\_hemoglobin\\_flag'\n",
       "\\item 'lab\\_sodium\\_flag'\n",
       "\\item 'lab\\_creatinine\\_kinase\\_flag'\n",
       "\\item 'lab\\_ph\\_flag'\n",
       "\\item 'lab\\_bnp\\_flag'\n",
       "\\item 'lab\\_bicarbonate\\_flag'\n",
       "\\item 'lab\\_wbc\\_flag'\n",
       "\\item 'lab\\_bun\\_flag'\n",
       "\\item 'lab\\_pco2\\_flag'\n",
       "\\item 'echo\\_int'\n",
       "\\item 'mort\\_28\\_day\\_int'\n",
       "\\end{enumerate*}\n"
      ],
      "text/markdown": [
       "1. 'icustay_id'\n",
       "2. 'hadm_id'\n",
       "3. 'subject_id'\n",
       "4. 'first_careunit'\n",
       "5. 'intime'\n",
       "6. 'outtime'\n",
       "7. 'angus'\n",
       "8. 'age'\n",
       "9. 'icu_order'\n",
       "10. 'echo_time'\n",
       "11. 'echo_exclude'\n",
       "12. 'echo_include'\n",
       "13. 'echo'\n",
       "14. 'gender'\n",
       "15. 'weight'\n",
       "16. 'saps'\n",
       "17. 'sofa'\n",
       "18. 'elix_score'\n",
       "19. 'vent'\n",
       "20. 'vaso'\n",
       "21. 'icu_adm_weekday'\n",
       "22. 'icu_adm_hour'\n",
       "23. 'deathtime'\n",
       "24. 'mort_28_day'\n",
       "25. 'icu_los_day'\n",
       "26. 'icd_chf'\n",
       "27. 'icd_afib'\n",
       "28. 'icd_renal'\n",
       "29. 'icd_liver'\n",
       "30. 'icd_copd'\n",
       "31. 'icd_cad'\n",
       "32. 'icd_stroke'\n",
       "33. 'icd_malignancy'\n",
       "34. 'vs_cvp_first'\n",
       "35. 'vs_cvp_min'\n",
       "36. 'vs_cvp_max'\n",
       "37. 'vs_heart_rate_first'\n",
       "38. 'vs_heart_rate_min'\n",
       "39. 'vs_heart_rate_max'\n",
       "40. 'vs_map_first'\n",
       "41. 'vs_map_min'\n",
       "42. 'vs_map_max'\n",
       "43. 'vs_temp_first'\n",
       "44. 'vs_temp_min'\n",
       "45. 'vs_temp_max'\n",
       "46. 'lab_chloride_first'\n",
       "47. 'lab_chloride_min'\n",
       "48. 'lab_chloride_max'\n",
       "49. 'lab_chloride_abnormal'\n",
       "50. 'lab_creatinine_first'\n",
       "51. 'lab_creatinine_min'\n",
       "52. 'lab_creatinine_max'\n",
       "53. 'lab_creatinine_abnormal'\n",
       "54. 'lab_platelet_first'\n",
       "55. 'lab_platelet_min'\n",
       "56. 'lab_platelet_max'\n",
       "57. 'lab_platelet_abnormal'\n",
       "58. 'lab_potassium_first'\n",
       "59. 'lab_potassium_min'\n",
       "60. 'lab_potassium_max'\n",
       "61. 'lab_potassium_abnormal'\n",
       "62. 'lab_troponin_first'\n",
       "63. 'lab_troponin_min'\n",
       "64. 'lab_troponin_max'\n",
       "65. 'lab_troponin_abnormal'\n",
       "66. 'lab_po2_first'\n",
       "67. 'lab_po2_min'\n",
       "68. 'lab_po2_max'\n",
       "69. 'lab_po2_abnormal'\n",
       "70. 'lab_lactate_first'\n",
       "71. 'lab_lactate_min'\n",
       "72. 'lab_lactate_max'\n",
       "73. 'lab_lactate_abnormal'\n",
       "74. 'lab_hemoglobin_first'\n",
       "75. 'lab_hemoglobin_min'\n",
       "76. 'lab_hemoglobin_max'\n",
       "77. 'lab_hemoglobin_abnormal'\n",
       "78. 'lab_sodium_first'\n",
       "79. 'lab_sodium_min'\n",
       "80. 'lab_sodium_max'\n",
       "81. 'lab_sodium_abnormal'\n",
       "82. 'lab_creatinine_kinase_first'\n",
       "83. 'lab_creatinine_kinase_min'\n",
       "84. 'lab_creatinine_kinase_max'\n",
       "85. 'lab_creatinine_kinase_abnormal'\n",
       "86. 'lab_ph_first'\n",
       "87. 'lab_ph_min'\n",
       "88. 'lab_ph_max'\n",
       "89. 'lab_ph_abnormal'\n",
       "90. 'lab_bnp_first'\n",
       "91. 'lab_bnp_min'\n",
       "92. 'lab_bnp_max'\n",
       "93. 'lab_bnp_abnormal'\n",
       "94. 'lab_bicarbonate_first'\n",
       "95. 'lab_bicarbonate_min'\n",
       "96. 'lab_bicarbonate_max'\n",
       "97. 'lab_bicarbonate_abnormal'\n",
       "98. 'lab_wbc_first'\n",
       "99. 'lab_wbc_min'\n",
       "100. 'lab_wbc_max'\n",
       "101. 'lab_wbc_abnormal'\n",
       "102. 'lab_bun_first'\n",
       "103. 'lab_bun_min'\n",
       "104. 'lab_bun_max'\n",
       "105. 'lab_bun_abnormal'\n",
       "106. 'lab_pco2_first'\n",
       "107. 'lab_pco2_min'\n",
       "108. 'lab_pco2_max'\n",
       "109. 'lab_pco2_abnormal'\n",
       "110. 'sedative'\n",
       "111. 'vs_cvp_flag'\n",
       "112. 'vs_heart_rate_flag'\n",
       "113. 'vs_map_flag'\n",
       "114. 'vs_temp_flag'\n",
       "115. 'lab_chloride_flag'\n",
       "116. 'lab_creatinine_flag'\n",
       "117. 'lab_platelet_flag'\n",
       "118. 'lab_potassium_flag'\n",
       "119. 'lab_troponin_flag'\n",
       "120. 'lab_po2_flag'\n",
       "121. 'lab_lactate_flag'\n",
       "122. 'lab_hemoglobin_flag'\n",
       "123. 'lab_sodium_flag'\n",
       "124. 'lab_creatinine_kinase_flag'\n",
       "125. 'lab_ph_flag'\n",
       "126. 'lab_bnp_flag'\n",
       "127. 'lab_bicarbonate_flag'\n",
       "128. 'lab_wbc_flag'\n",
       "129. 'lab_bun_flag'\n",
       "130. 'lab_pco2_flag'\n",
       "131. 'echo_int'\n",
       "132. 'mort_28_day_int'\n",
       "\n",
       "\n"
      ],
      "text/plain": [
       "  [1] \"icustay_id\"                     \"hadm_id\"                       \n",
       "  [3] \"subject_id\"                     \"first_careunit\"                \n",
       "  [5] \"intime\"                         \"outtime\"                       \n",
       "  [7] \"angus\"                          \"age\"                           \n",
       "  [9] \"icu_order\"                      \"echo_time\"                     \n",
       " [11] \"echo_exclude\"                   \"echo_include\"                  \n",
       " [13] \"echo\"                           \"gender\"                        \n",
       " [15] \"weight\"                         \"saps\"                          \n",
       " [17] \"sofa\"                           \"elix_score\"                    \n",
       " [19] \"vent\"                           \"vaso\"                          \n",
       " [21] \"icu_adm_weekday\"                \"icu_adm_hour\"                  \n",
       " [23] \"deathtime\"                      \"mort_28_day\"                   \n",
       " [25] \"icu_los_day\"                    \"icd_chf\"                       \n",
       " [27] \"icd_afib\"                       \"icd_renal\"                     \n",
       " [29] \"icd_liver\"                      \"icd_copd\"                      \n",
       " [31] \"icd_cad\"                        \"icd_stroke\"                    \n",
       " [33] \"icd_malignancy\"                 \"vs_cvp_first\"                  \n",
       " [35] \"vs_cvp_min\"                     \"vs_cvp_max\"                    \n",
       " [37] \"vs_heart_rate_first\"            \"vs_heart_rate_min\"             \n",
       " [39] \"vs_heart_rate_max\"              \"vs_map_first\"                  \n",
       " [41] \"vs_map_min\"                     \"vs_map_max\"                    \n",
       " [43] \"vs_temp_first\"                  \"vs_temp_min\"                   \n",
       " [45] \"vs_temp_max\"                    \"lab_chloride_first\"            \n",
       " [47] \"lab_chloride_min\"               \"lab_chloride_max\"              \n",
       " [49] \"lab_chloride_abnormal\"          \"lab_creatinine_first\"          \n",
       " [51] \"lab_creatinine_min\"             \"lab_creatinine_max\"            \n",
       " [53] \"lab_creatinine_abnormal\"        \"lab_platelet_first\"            \n",
       " [55] \"lab_platelet_min\"               \"lab_platelet_max\"              \n",
       " [57] \"lab_platelet_abnormal\"          \"lab_potassium_first\"           \n",
       " [59] \"lab_potassium_min\"              \"lab_potassium_max\"             \n",
       " [61] \"lab_potassium_abnormal\"         \"lab_troponin_first\"            \n",
       " [63] \"lab_troponin_min\"               \"lab_troponin_max\"              \n",
       " [65] \"lab_troponin_abnormal\"          \"lab_po2_first\"                 \n",
       " [67] \"lab_po2_min\"                    \"lab_po2_max\"                   \n",
       " [69] \"lab_po2_abnormal\"               \"lab_lactate_first\"             \n",
       " [71] \"lab_lactate_min\"                \"lab_lactate_max\"               \n",
       " [73] \"lab_lactate_abnormal\"           \"lab_hemoglobin_first\"          \n",
       " [75] \"lab_hemoglobin_min\"             \"lab_hemoglobin_max\"            \n",
       " [77] \"lab_hemoglobin_abnormal\"        \"lab_sodium_first\"              \n",
       " [79] \"lab_sodium_min\"                 \"lab_sodium_max\"                \n",
       " [81] \"lab_sodium_abnormal\"            \"lab_creatinine_kinase_first\"   \n",
       " [83] \"lab_creatinine_kinase_min\"      \"lab_creatinine_kinase_max\"     \n",
       " [85] \"lab_creatinine_kinase_abnormal\" \"lab_ph_first\"                  \n",
       " [87] \"lab_ph_min\"                     \"lab_ph_max\"                    \n",
       " [89] \"lab_ph_abnormal\"                \"lab_bnp_first\"                 \n",
       " [91] \"lab_bnp_min\"                    \"lab_bnp_max\"                   \n",
       " [93] \"lab_bnp_abnormal\"               \"lab_bicarbonate_first\"         \n",
       " [95] \"lab_bicarbonate_min\"            \"lab_bicarbonate_max\"           \n",
       " [97] \"lab_bicarbonate_abnormal\"       \"lab_wbc_first\"                 \n",
       " [99] \"lab_wbc_min\"                    \"lab_wbc_max\"                   \n",
       "[101] \"lab_wbc_abnormal\"               \"lab_bun_first\"                 \n",
       "[103] \"lab_bun_min\"                    \"lab_bun_max\"                   \n",
       "[105] \"lab_bun_abnormal\"               \"lab_pco2_first\"                \n",
       "[107] \"lab_pco2_min\"                   \"lab_pco2_max\"                  \n",
       "[109] \"lab_pco2_abnormal\"              \"sedative\"                      \n",
       "[111] \"vs_cvp_flag\"                    \"vs_heart_rate_flag\"            \n",
       "[113] \"vs_map_flag\"                    \"vs_temp_flag\"                  \n",
       "[115] \"lab_chloride_flag\"              \"lab_creatinine_flag\"           \n",
       "[117] \"lab_platelet_flag\"              \"lab_potassium_flag\"            \n",
       "[119] \"lab_troponin_flag\"              \"lab_po2_flag\"                  \n",
       "[121] \"lab_lactate_flag\"               \"lab_hemoglobin_flag\"           \n",
       "[123] \"lab_sodium_flag\"                \"lab_creatinine_kinase_flag\"    \n",
       "[125] \"lab_ph_flag\"                    \"lab_bnp_flag\"                  \n",
       "[127] \"lab_bicarbonate_flag\"           \"lab_wbc_flag\"                  \n",
       "[129] \"lab_bun_flag\"                   \"lab_pco2_flag\"                 \n",
       "[131] \"echo_int\"                       \"mort_28_day_int\"               "
      ]
     },
     "metadata": {},
     "output_type": "display_data"
    }
   ],
   "source": [
    "full_data %>% colnames"
   ]
  },
  {
   "cell_type": "code",
   "execution_count": 11,
   "metadata": {},
   "outputs": [],
   "source": [
    "feature_names %>%\n",
    "data.frame(feature = ., stringsAsFactors = FALSE) %>%\n",
    "data.table::fwrite(file = file.path(data_dir, \"features.csv\"))"
   ]
  }
 ],
 "metadata": {
  "kernelspec": {
   "display_name": "R",
   "language": "R",
   "name": "ir"
  },
  "language_info": {
   "codemirror_mode": "r",
   "file_extension": ".r",
   "mimetype": "text/x-r-source",
   "name": "R",
   "pygments_lexer": "r",
   "version": "4.2.3"
  },
  "varInspector": {
   "cols": {
    "lenName": 16,
    "lenType": 16,
    "lenVar": 40
   },
   "kernels_config": {
    "python": {
     "delete_cmd_postfix": "",
     "delete_cmd_prefix": "del ",
     "library": "var_list.py",
     "varRefreshCmd": "print(var_dic_list())"
    },
    "r": {
     "delete_cmd_postfix": ") ",
     "delete_cmd_prefix": "rm(",
     "library": "var_list.r",
     "varRefreshCmd": "cat(var_dic_list()) "
    }
   },
   "types_to_exclude": [
    "module",
    "function",
    "builtin_function_or_method",
    "instance",
    "_Feature"
   ],
   "window_display": false
  }
 },
 "nbformat": 4,
 "nbformat_minor": 2
}
